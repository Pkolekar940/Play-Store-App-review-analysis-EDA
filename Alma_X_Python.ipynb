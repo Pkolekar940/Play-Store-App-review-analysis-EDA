{
  "nbformat": 4,
  "nbformat_minor": 0,
  "metadata": {
    "colab": {
      "provenance": [],
      "authorship_tag": "ABX9TyPn5a1Mzh+OGXIvQZ/1MkHG",
      "include_colab_link": true
    },
    "kernelspec": {
      "name": "python3",
      "display_name": "Python 3"
    },
    "language_info": {
      "name": "python"
    }
  },
  "cells": [
    {
      "cell_type": "markdown",
      "metadata": {
        "id": "view-in-github",
        "colab_type": "text"
      },
      "source": [
        "<a href=\"https://colab.research.google.com/github/Pkolekar940/Play-Store-App-review-analysis-EDA/blob/main/Alma_X_Python.ipynb\" target=\"_parent\"><img src=\"https://colab.research.google.com/assets/colab-badge.svg\" alt=\"Open In Colab\"/></a>"
      ]
    },
    {
      "cell_type": "markdown",
      "source": [
        "# Coding Assessments"
      ],
      "metadata": {
        "id": "nUx2pMPruynR"
      }
    },
    {
      "cell_type": "markdown",
      "source": [
        "## Python level 1"
      ],
      "metadata": {
        "id": "nSsAt0MUu9Ky"
      }
    },
    {
      "cell_type": "markdown",
      "source": [
        "### Write a Python program to find the sum of two given integers. However, if the sum is between 15 to 20 it will return 20."
      ],
      "metadata": {
        "id": "ppOjbD0RvEwR"
      }
    },
    {
      "cell_type": "code",
      "execution_count": null,
      "metadata": {
        "id": "KEopfm3xuUnd"
      },
      "outputs": [],
      "source": []
    },
    {
      "cell_type": "markdown",
      "source": [
        "### Write a Python program to check if a number is positive, negative or zero."
      ],
      "metadata": {
        "id": "WOjuTCvtvJaE"
      }
    },
    {
      "cell_type": "markdown",
      "source": [
        "Example 1:\n",
        "Input:\n",
        "10.5247, 2\n",
        "\n",
        "Output:\n",
        "10.52"
      ],
      "metadata": {
        "id": "OojvzfFTvbnb"
      }
    },
    {
      "cell_type": "code",
      "source": [],
      "metadata": {
        "id": "hCHFibilvNCF"
      },
      "execution_count": null,
      "outputs": []
    },
    {
      "cell_type": "markdown",
      "source": [
        "### Write a Python program to round a floating-point number to specified number decimal places."
      ],
      "metadata": {
        "id": "TLjLt8xAvQv_"
      }
    },
    {
      "cell_type": "code",
      "source": [],
      "metadata": {
        "id": "9yH4FisKvSP5"
      },
      "execution_count": null,
      "outputs": []
    },
    {
      "cell_type": "markdown",
      "source": [
        "### Write a Python program to compute and print sum of two given integers (more than or equal to zero). If given integers or the sum have more than 80 digits, print \"overflow\"."
      ],
      "metadata": {
        "id": "43XQRfacvS7V"
      }
    },
    {
      "cell_type": "code",
      "source": [],
      "metadata": {
        "id": "g6cawPiWvpdo"
      },
      "execution_count": null,
      "outputs": []
    },
    {
      "cell_type": "markdown",
      "source": [
        "### Write a Python program to find whether a given number (accept from the user) is even or odd, print out an appropriate message to the user."
      ],
      "metadata": {
        "id": "Yenu2fHevp5J"
      }
    },
    {
      "cell_type": "markdown",
      "source": [
        "Example 1:\n",
        "Input:\n",
        "5\n",
        "\n",
        "Output:\n",
        "This is an odd number."
      ],
      "metadata": {
        "id": "CnsFoNA5vv2H"
      }
    },
    {
      "cell_type": "code",
      "source": [],
      "metadata": {
        "id": "i3jJXR1MvvSe"
      },
      "execution_count": null,
      "outputs": []
    },
    {
      "cell_type": "markdown",
      "source": [
        "## Python level 2"
      ],
      "metadata": {
        "id": "PbO7xu4AvzZg"
      }
    },
    {
      "cell_type": "markdown",
      "source": [
        "### Write a Python program to print a specified list after removing the 0th, 4th and 5th elements"
      ],
      "metadata": {
        "id": "1gCCowRgv7r5"
      }
    },
    {
      "cell_type": "markdown",
      "source": [
        "Example 1:\n",
        "Input:\n",
        "['Red', 'Green', 'White', 'Black', 'Pink', 'Yellow']\n",
        "\n",
        "Output:\n",
        "['Green', 'White', 'Black']"
      ],
      "metadata": {
        "id": "KH85dEjywDBO"
      }
    },
    {
      "cell_type": "code",
      "source": [],
      "metadata": {
        "id": "0O4MIj9zwFyL"
      },
      "execution_count": null,
      "outputs": []
    },
    {
      "cell_type": "markdown",
      "source": [
        "### Write a Python program to get the largest number from a list."
      ],
      "metadata": {
        "id": "fIpyQ40FwHI2"
      }
    },
    {
      "cell_type": "markdown",
      "source": [
        "Example 1:\n",
        "Input:\n",
        "[1, 2, -8, 0]\n",
        "\n",
        "Output:\n",
        "2"
      ],
      "metadata": {
        "id": "rQZI4mLbwNy-"
      }
    },
    {
      "cell_type": "code",
      "source": [],
      "metadata": {
        "id": "rp4GZByhwQRr"
      },
      "execution_count": null,
      "outputs": []
    },
    {
      "cell_type": "markdown",
      "source": [
        "### Write a Python program to get the every nth element in a given list."
      ],
      "metadata": {
        "id": "7RIPwHJHwRby"
      }
    },
    {
      "cell_type": "markdown",
      "source": [
        "Example 1:\n",
        "Input:\n",
        "[1, 2, 3, 4, 5, 6, 7, 8, 9, 10]\n",
        "\n",
        "2\n",
        "\n",
        "Output:\n",
        "[2, 4, 6, 8, 10]"
      ],
      "metadata": {
        "id": "aWxTCCgYwVh1"
      }
    },
    {
      "cell_type": "code",
      "source": [],
      "metadata": {
        "id": "gvy50e0RwYqo"
      },
      "execution_count": null,
      "outputs": []
    },
    {
      "cell_type": "markdown",
      "source": [
        "### Write a Python program to get the smallest number from a list."
      ],
      "metadata": {
        "id": "dC2df67Uwc0d"
      }
    },
    {
      "cell_type": "markdown",
      "source": [
        "Example 1:\n",
        "Input:\n",
        "[1, 2, -8, 0]\n",
        "\n",
        "Output:\n",
        "-8"
      ],
      "metadata": {
        "id": "Dn8M9eagwef0"
      }
    },
    {
      "cell_type": "code",
      "source": [],
      "metadata": {
        "id": "mn8pzIoKwhC0"
      },
      "execution_count": null,
      "outputs": []
    },
    {
      "cell_type": "markdown",
      "source": [
        "### Write a Python program to sum all the items in a list."
      ],
      "metadata": {
        "id": "ImEh_KIKwira"
      }
    },
    {
      "cell_type": "markdown",
      "source": [
        "Example 1:\n",
        "Input:\n",
        "[1,2,-8]\n",
        "\n",
        "Output:\n",
        "-5"
      ],
      "metadata": {
        "id": "rLJGMLDtwnbQ"
      }
    },
    {
      "cell_type": "code",
      "source": [],
      "metadata": {
        "id": "WvObLGykwuFM"
      },
      "execution_count": null,
      "outputs": []
    },
    {
      "cell_type": "markdown",
      "source": [
        "### Python level 3"
      ],
      "metadata": {
        "id": "tqmHJ1ihwwV8"
      }
    },
    {
      "cell_type": "markdown",
      "source": [
        "### Write a Python program to find the biggest even number between two numbers inclusive."
      ],
      "metadata": {
        "id": "FGSyur-dw0lr"
      }
    },
    {
      "cell_type": "markdown",
      "source": [
        "Example 1:\n",
        "Input:\n",
        "12\n",
        ", 51\n",
        "\n",
        "Output:\n",
        "50"
      ],
      "metadata": {
        "id": "5p-eYd5NxCZ2"
      }
    },
    {
      "cell_type": "code",
      "source": [],
      "metadata": {
        "id": "f5lOaX7Owz8H"
      },
      "execution_count": null,
      "outputs": []
    },
    {
      "cell_type": "markdown",
      "source": [
        "### Write a Python program to find the indexes of numbers of a given list below a given threshold."
      ],
      "metadata": {
        "id": "8vFg1rs_xJmm"
      }
    },
    {
      "cell_type": "markdown",
      "source": [
        "Example 1:\n",
        "Input:\n",
        "[0, 12, 45, 3, 4923, 322, 105, 29, 15, 39, 55]\n",
        "\n",
        "100\n",
        "\n",
        "Output:\n",
        "[0, 1, 2, 3, 7, 8, 9, 10]"
      ],
      "metadata": {
        "id": "Seai2zPhxNtU"
      }
    },
    {
      "cell_type": "code",
      "source": [],
      "metadata": {
        "id": "hAk3ERJNxZEC"
      },
      "execution_count": null,
      "outputs": []
    },
    {
      "cell_type": "markdown",
      "source": [
        "### Write a Python program to remove None value from a given list. (Using list comprehension)"
      ],
      "metadata": {
        "id": "mK0UJzQ7xb6k"
      }
    },
    {
      "cell_type": "markdown",
      "source": [
        "Input:\n",
        "[12, 0, None, 23, None, -55, 234, 89, None, 0, 6, -12]\n",
        "\n",
        "Output:\n",
        "[12, 0, 23, -55, 234, 89, 0, 6, -12]"
      ],
      "metadata": {
        "id": "bxTZjr4sxgHs"
      }
    },
    {
      "cell_type": "code",
      "source": [],
      "metadata": {
        "id": "5EbANjbPxi8q"
      },
      "execution_count": null,
      "outputs": []
    },
    {
      "cell_type": "markdown",
      "source": [
        "### Write a Python program to find the indexes of all None items in a given list."
      ],
      "metadata": {
        "id": "czTseP45xoLx"
      }
    },
    {
      "cell_type": "markdown",
      "source": [
        "Input:\n",
        "[1, None, 5, 4,None, 0, None, None]\n",
        "\n",
        "Output:\n",
        "[1, 4, 6, 7]"
      ],
      "metadata": {
        "id": "UwVryb85xpHg"
      }
    },
    {
      "cell_type": "code",
      "source": [],
      "metadata": {
        "id": "_D4Rjod9x2FG"
      },
      "execution_count": null,
      "outputs": []
    },
    {
      "cell_type": "markdown",
      "source": [
        "### Write a Python program to remove specific words from a given list. (Using List comprehension)"
      ],
      "metadata": {
        "id": "111U6nYbxq_y"
      }
    },
    {
      "cell_type": "markdown",
      "source": [
        "Input:\n",
        "['red', 'green', 'blue', 'white', 'black', 'orange']\n",
        "\n",
        "['white', 'orange']\n",
        "\n",
        "Output:\n",
        "['red', 'green', 'blue', 'black']"
      ],
      "metadata": {
        "id": "WnO23xF4xu24"
      }
    },
    {
      "cell_type": "code",
      "source": [],
      "metadata": {
        "id": "-pyZyw0ux0_Y"
      },
      "execution_count": null,
      "outputs": []
    },
    {
      "cell_type": "markdown",
      "source": [
        "## Python level 4"
      ],
      "metadata": {
        "id": "gpIRC9etxxli"
      }
    },
    {
      "cell_type": "markdown",
      "source": [
        "### Write a Python program to calculate Euclidean Distance."
      ],
      "metadata": {
        "id": "2-8tp3ubyBtW"
      }
    },
    {
      "cell_type": "markdown",
      "source": [
        "Input:\n",
        "Given First point values P(x1, y1) : 6 , 7\n",
        "\n",
        "Given second point values Q(x2, y2) : 5, 4\n",
        "\n",
        "Output:\n",
        "The Euclidean Distance between the above given two points 'PQ' = 3.1622776601683795"
      ],
      "metadata": {
        "id": "1SchsIoYySXS"
      }
    },
    {
      "cell_type": "code",
      "source": [],
      "metadata": {
        "id": "IXH0uYtsyVWF"
      },
      "execution_count": null,
      "outputs": []
    },
    {
      "cell_type": "markdown",
      "source": [
        "### Write a python program to remove a given character from string."
      ],
      "metadata": {
        "id": "Qq4upRWCyYdo"
      }
    },
    {
      "cell_type": "markdown",
      "source": [
        "Input:\n",
        "AlmaBetter , t\n",
        "\n",
        "Output:\n",
        "almabe er"
      ],
      "metadata": {
        "id": "_Ajl0YuLyamv"
      }
    },
    {
      "cell_type": "code",
      "source": [],
      "metadata": {
        "id": "qozdYcBlyc-P"
      },
      "execution_count": null,
      "outputs": []
    },
    {
      "cell_type": "markdown",
      "source": [
        "### Write a python program to find the last position of a given substring."
      ],
      "metadata": {
        "id": "CFrbr-DCymce"
      }
    },
    {
      "cell_type": "markdown",
      "source": [
        "Input:\n",
        "Emma is a data scientist who knows Python. Emma works at google.\n",
        "\n",
        "Emma\n",
        "\n",
        "Output:\n",
        "Last occurrence of Emma starts at index 43"
      ],
      "metadata": {
        "id": "B7O7JPWqyoT0"
      }
    },
    {
      "cell_type": "code",
      "source": [],
      "metadata": {
        "id": "J4Ga-2xqyrAK"
      },
      "execution_count": null,
      "outputs": []
    },
    {
      "cell_type": "markdown",
      "source": [
        "### Write a Python program to find common items from two lists."
      ],
      "metadata": {
        "id": "9UMyaBuVyt4v"
      }
    },
    {
      "cell_type": "markdown",
      "source": [
        "Input:\n",
        "[\"Red\", \"Green\", \"Orange\", \"White\"]\n",
        "\n",
        "[\"Black\", \"Green\", \"White\", \"Pink\"]\n",
        "\n",
        "Output:\n",
        "['Green', 'White']"
      ],
      "metadata": {
        "id": "viOXTpOzyvl6"
      }
    },
    {
      "cell_type": "code",
      "source": [],
      "metadata": {
        "id": "WbHqnYSjyy4c"
      },
      "execution_count": null,
      "outputs": []
    },
    {
      "cell_type": "markdown",
      "source": [
        "### Write a Python program to check whether a String is Palindrome or not?"
      ],
      "metadata": {
        "id": "jO5mOE2tyyUP"
      }
    },
    {
      "cell_type": "markdown",
      "source": [
        "Input:\n",
        "madam\n",
        "\n",
        "Output:\n",
        "String is a Palindrome"
      ],
      "metadata": {
        "id": "jwtbkry_y39Q"
      }
    },
    {
      "cell_type": "code",
      "source": [],
      "metadata": {
        "id": "xfNJQ0DEy63G"
      },
      "execution_count": null,
      "outputs": []
    },
    {
      "cell_type": "markdown",
      "source": [
        "## Python level 5"
      ],
      "metadata": {
        "id": "Opiz_5mXzJ6o"
      }
    },
    {
      "cell_type": "markdown",
      "source": [
        "### Write a Python program to swap two number without using third variable."
      ],
      "metadata": {
        "id": "o3OhQZPwzNax"
      }
    },
    {
      "cell_type": "markdown",
      "source": [
        " Input:\n",
        "\n",
        "a=9\n",
        "\n",
        "b=2\n",
        "\n",
        "Output:\n",
        "\n",
        "value of a is : 9\n",
        "\n",
        "value of b is : 2\n",
        "\n",
        "After swapping\n",
        "\n",
        "value of a is : 2\n",
        "\n",
        "value of b is : 9\n",
        "\n"
      ],
      "metadata": {
        "id": "HeLOaIXrzZM6"
      }
    },
    {
      "cell_type": "code",
      "source": [],
      "metadata": {
        "id": "5y2kzioAzcgG"
      },
      "execution_count": null,
      "outputs": []
    },
    {
      "cell_type": "markdown",
      "source": [
        "### Write a python program to check a given number is perfect or not.\n",
        "\n",
        "Note: A perfect number is a positive integer that is equal to the sum of its positive divisors, excluding the number itself.\n",
        "\n",
        "Lets understand it with example\n",
        "\n",
        "6 is a positive number and its divisor is 1,2,3 and 6 itself.\n",
        "\n",
        "But we should not include 6 as by the definition of perfect number.\n",
        "\n",
        "Lets add its divisor excluding itself\n",
        "\n",
        "1+2+3 = 6 which is equal to number itself.\n",
        "\n",
        "It means 6 is a Perfect Number."
      ],
      "metadata": {
        "id": "ArG4BgS8z2_s"
      }
    },
    {
      "cell_type": "markdown",
      "source": [
        "Input:\n",
        "28\n",
        "\n",
        "Output:\n",
        "It is Perfect Number"
      ],
      "metadata": {
        "id": "BeXng_Me0ChT"
      }
    },
    {
      "cell_type": "code",
      "source": [],
      "metadata": {
        "id": "ekqLfUq_z-qz"
      },
      "execution_count": null,
      "outputs": []
    },
    {
      "cell_type": "markdown",
      "source": [
        "### Write a Python program to change the position of every nth value with the (n+1)th in a list."
      ],
      "metadata": {
        "id": "BlNaSKlG0FIK"
      }
    },
    {
      "cell_type": "markdown",
      "source": [
        "Input:\n",
        "[1, 0, 3, 2, 5, 4]\n",
        "\n",
        "Output:\n",
        "[0, 1, 2, 3, 4, 5]"
      ],
      "metadata": {
        "id": "z1WksfyM0Jo2"
      }
    },
    {
      "cell_type": "code",
      "source": [],
      "metadata": {
        "id": "Pn9Uq_Zy0weJ"
      },
      "execution_count": null,
      "outputs": []
    },
    {
      "cell_type": "markdown",
      "source": [
        "### Write a Python program to compute the difference between two lists."
      ],
      "metadata": {
        "id": "FqfcPJR_0O0I"
      }
    },
    {
      "cell_type": "markdown",
      "source": [
        "Input:\n",
        "\n",
        "L1=[\"red\", \"orange\", \"green\", \"blue\", \"white\"]\n",
        "\n",
        "L2=[\"black\", \"yellow\", \"green\", \"blue\"]\n",
        "\n",
        "Output:\n",
        "\n",
        "L1-L2= ['orange', 'red', 'white']\n",
        "\n",
        "L2-L1= ['black', 'yellow']"
      ],
      "metadata": {
        "id": "szq_Tjau0P3H"
      }
    },
    {
      "cell_type": "code",
      "source": [],
      "metadata": {
        "id": "p6SfSEd50OQA"
      },
      "execution_count": null,
      "outputs": []
    },
    {
      "cell_type": "markdown",
      "source": [
        "### Write a Python program to find a tuple, the smallest second index value from a list of tuples."
      ],
      "metadata": {
        "id": "XnYD0ATm0aRd"
      }
    },
    {
      "cell_type": "markdown",
      "source": [
        "Input:\n",
        "  x= [(4, 1), (1, 2), (6, 0)]\n",
        "\n",
        "Output:\n",
        "(6, 0)"
      ],
      "metadata": {
        "id": "g1jTZFQM0egg"
      }
    },
    {
      "cell_type": "code",
      "source": [],
      "metadata": {
        "id": "55fbW6HQ0pUr"
      },
      "execution_count": null,
      "outputs": []
    },
    {
      "cell_type": "markdown",
      "source": [
        "## Python level 6"
      ],
      "metadata": {
        "id": "LxFLIiDd13Il"
      }
    },
    {
      "cell_type": "markdown",
      "source": [
        "### Write a Python program to find the items starts with specific character from a given list."
      ],
      "metadata": {
        "id": "JHSpvyy9078W"
      }
    },
    {
      "cell_type": "markdown",
      "source": [
        "Input:\n",
        "\n",
        "['abcd', 'abc', 'bcd', 'bkie', 'cder', 'cdsw', 'sdfsd', 'dagfa', 'acjd']\n",
        "\n",
        "a\n",
        "\n",
        "Output:\n",
        "\n",
        "Items start with a from the said list:\n",
        "\n",
        "['abcd', 'abc', 'acjd']"
      ],
      "metadata": {
        "id": "QBMsy0Zl09hN"
      }
    },
    {
      "cell_type": "code",
      "source": [],
      "metadata": {
        "id": "4PQNdKVB1BTO"
      },
      "execution_count": null,
      "outputs": []
    },
    {
      "cell_type": "markdown",
      "source": [
        "### Write a Python Program to Find Next Prime Number."
      ],
      "metadata": {
        "id": "eEeM6oXO2De6"
      }
    },
    {
      "cell_type": "markdown",
      "source": [
        "Input:\n",
        "Given Number = 48\n",
        "\n",
        "Output:\n",
        "The next prime number of 48 is: 53"
      ],
      "metadata": {
        "id": "ncm7BCrZ2HZN"
      }
    },
    {
      "cell_type": "code",
      "source": [],
      "metadata": {
        "id": "D3PNCe7x2JZZ"
      },
      "execution_count": null,
      "outputs": []
    },
    {
      "cell_type": "markdown",
      "source": [
        "### Write a Python program to find the largest negative and smallest positive numbers (or 0 if none)."
      ],
      "metadata": {
        "id": "Df3EMytR2NHA"
      }
    },
    {
      "cell_type": "markdown",
      "source": [
        "Input:\n",
        "\n",
        "[-12, -6, 300, -40, 2, 2, 3, 57, -50, -22, 12, 40, 9, 11, 18]\n",
        "\n",
        "Output:\n",
        "\n",
        "Largest negative and smallest positive numbers (or 0 if none) of the said list:\n",
        "\n",
        "[-6, 2]"
      ],
      "metadata": {
        "id": "hN2cqDYG2O6E"
      }
    },
    {
      "cell_type": "code",
      "source": [],
      "metadata": {
        "id": "iphvEOZO2So4"
      },
      "execution_count": null,
      "outputs": []
    },
    {
      "cell_type": "markdown",
      "source": [
        "### Write a Python program to remove duplicate characters of a given string."
      ],
      "metadata": {
        "id": "tFnNHdtE2VIv"
      }
    },
    {
      "cell_type": "markdown",
      "source": [
        "Input:\n",
        "\n",
        "python exercises practice solution\n",
        "\n",
        "Output:\n",
        "\n",
        "python exrcisalu"
      ],
      "metadata": {
        "id": "yDviuMZK2WkZ"
      }
    },
    {
      "cell_type": "code",
      "source": [],
      "metadata": {
        "id": "2t62ExcF2aWd"
      },
      "execution_count": null,
      "outputs": []
    },
    {
      "cell_type": "markdown",
      "source": [
        "### Write a Python program to find whether a given string starts with a given character using Lambda."
      ],
      "metadata": {
        "id": "Fynr9Vhn2dAf"
      }
    },
    {
      "cell_type": "markdown",
      "source": [
        "Input:\n",
        "\n",
        "Python\n",
        "\n",
        "P\n",
        "\n",
        "Output:\n",
        "\n",
        "True"
      ],
      "metadata": {
        "id": "i9hPMCiQ2ela"
      }
    },
    {
      "cell_type": "code",
      "source": [],
      "metadata": {
        "id": "mbjWhTZR2iXH"
      },
      "execution_count": null,
      "outputs": []
    }
  ]
}